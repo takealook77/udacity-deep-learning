{
 "cells": [
  {
   "cell_type": "markdown",
   "metadata": {
    "colab_type": "text",
    "id": "kR-4eNdK6lYS"
   },
   "source": [
    "Deep Learning\n",
    "=============\n",
    "\n",
    "Assignment 3\n",
    "------------\n",
    "\n",
    "Previously in `2_fullyconnected.ipynb`, you trained a logistic regression and a neural network model.\n",
    "\n",
    "The goal of this assignment is to explore regularization techniques."
   ]
  },
  {
   "cell_type": "code",
   "execution_count": 21,
   "metadata": {
    "cellView": "both",
    "colab": {
     "autoexec": {
      "startup": false,
      "wait_interval": 0
     }
    },
    "colab_type": "code",
    "collapsed": true,
    "id": "JLpLa8Jt7Vu4"
   },
   "outputs": [],
   "source": [
    "# These are all the modules we'll be using later. Make sure you can import them\n",
    "# before proceeding further.\n",
    "from __future__ import print_function\n",
    "import numpy as np\n",
    "import tensorflow as tf\n",
    "from six.moves import cPickle as pickle\n",
    "import math"
   ]
  },
  {
   "cell_type": "markdown",
   "metadata": {
    "colab_type": "text",
    "id": "1HrCK6e17WzV"
   },
   "source": [
    "First reload the data we generated in _notmist.ipynb_."
   ]
  },
  {
   "cell_type": "code",
   "execution_count": 2,
   "metadata": {
    "cellView": "both",
    "colab": {
     "autoexec": {
      "startup": false,
      "wait_interval": 0
     },
     "output_extras": [
      {
       "item_id": 1
      }
     ]
    },
    "colab_type": "code",
    "collapsed": false,
    "executionInfo": {
     "elapsed": 11777,
     "status": "ok",
     "timestamp": 1449849322348,
     "user": {
      "color": "",
      "displayName": "",
      "isAnonymous": false,
      "isMe": true,
      "permissionId": "",
      "photoUrl": "",
      "sessionId": "0",
      "userId": ""
     },
     "user_tz": 480
    },
    "id": "y3-cj1bpmuxc",
    "outputId": "e03576f1-ebbe-4838-c388-f1777bcc9873"
   },
   "outputs": [
    {
     "name": "stdout",
     "output_type": "stream",
     "text": [
      "Training set (200000, 28, 28) (200000,)\n",
      "Validation set (10000, 28, 28) (10000,)\n",
      "Test set (10000, 28, 28) (10000,)\n"
     ]
    }
   ],
   "source": [
    "pickle_file = 'notMNIST.pickle'\n",
    "\n",
    "with open(pickle_file, 'rb') as f:\n",
    "  save = pickle.load(f)\n",
    "  train_dataset = save['train_dataset']\n",
    "  train_labels = save['train_labels']\n",
    "  valid_dataset = save['valid_dataset']\n",
    "  valid_labels = save['valid_labels']\n",
    "  test_dataset = save['test_dataset']\n",
    "  test_labels = save['test_labels']\n",
    "  del save  # hint to help gc free up memory\n",
    "  print('Training set', train_dataset.shape, train_labels.shape)\n",
    "  print('Validation set', valid_dataset.shape, valid_labels.shape)\n",
    "  print('Test set', test_dataset.shape, test_labels.shape)"
   ]
  },
  {
   "cell_type": "markdown",
   "metadata": {
    "colab_type": "text",
    "id": "L7aHrm6nGDMB"
   },
   "source": [
    "Reformat into a shape that's more adapted to the models we're going to train:\n",
    "- data as a flat matrix,\n",
    "- labels as float 1-hot encodings."
   ]
  },
  {
   "cell_type": "code",
   "execution_count": 3,
   "metadata": {
    "cellView": "both",
    "colab": {
     "autoexec": {
      "startup": false,
      "wait_interval": 0
     },
     "output_extras": [
      {
       "item_id": 1
      }
     ]
    },
    "colab_type": "code",
    "collapsed": false,
    "executionInfo": {
     "elapsed": 11728,
     "status": "ok",
     "timestamp": 1449849322356,
     "user": {
      "color": "",
      "displayName": "",
      "isAnonymous": false,
      "isMe": true,
      "permissionId": "",
      "photoUrl": "",
      "sessionId": "0",
      "userId": ""
     },
     "user_tz": 480
    },
    "id": "IRSyYiIIGIzS",
    "outputId": "3f8996ee-3574-4f44-c953-5c8a04636582"
   },
   "outputs": [
    {
     "name": "stdout",
     "output_type": "stream",
     "text": [
      "Training set (200000, 784) (200000, 10)\n",
      "Validation set (10000, 784) (10000, 10)\n",
      "Test set (10000, 784) (10000, 10)\n"
     ]
    }
   ],
   "source": [
    "image_size = 28\n",
    "num_labels = 10\n",
    "\n",
    "def reformat(dataset, labels):\n",
    "  dataset = dataset.reshape((-1, image_size * image_size)).astype(np.float32)\n",
    "  # Map 2 to [0.0, 1.0, 0.0 ...], 3 to [0.0, 0.0, 1.0 ...]\n",
    "  labels = (np.arange(num_labels) == labels[:,None]).astype(np.float32)\n",
    "  return dataset, labels\n",
    "train_dataset, train_labels = reformat(train_dataset, train_labels)\n",
    "valid_dataset, valid_labels = reformat(valid_dataset, valid_labels)\n",
    "test_dataset, test_labels = reformat(test_dataset, test_labels)\n",
    "print('Training set', train_dataset.shape, train_labels.shape)\n",
    "print('Validation set', valid_dataset.shape, valid_labels.shape)\n",
    "print('Test set', test_dataset.shape, test_labels.shape)"
   ]
  },
  {
   "cell_type": "code",
   "execution_count": 9,
   "metadata": {
    "cellView": "both",
    "colab": {
     "autoexec": {
      "startup": false,
      "wait_interval": 0
     }
    },
    "colab_type": "code",
    "collapsed": true,
    "id": "RajPLaL_ZW6w"
   },
   "outputs": [],
   "source": [
    "def accuracy(predictions, labels):\n",
    "  return (100.0 * np.sum(np.argmax(predictions, 1) == np.argmax(labels, 1))\n",
    "          / predictions.shape[0])"
   ]
  },
  {
   "cell_type": "markdown",
   "metadata": {
    "colab_type": "text",
    "id": "sgLbUAQ1CW-1"
   },
   "source": [
    "---\n",
    "Problem 1\n",
    "---------\n",
    "\n",
    "Introduce and tune L2 regularization for both logistic and neural network models. Remember that L2 amounts to adding a penalty on the norm of the weights to the loss. In TensorFlow, you can compute the L2 loss for a tensor `t` using `nn.l2_loss(t)`. The right amount of regularization should improve your validation / test accuracy.\n",
    "\n",
    "---\n",
    "\n",
    "### Logistic regression"
   ]
  },
  {
   "cell_type": "code",
   "execution_count": 18,
   "metadata": {
    "collapsed": true
   },
   "outputs": [],
   "source": [
    "batch_size = 128\n",
    "\n",
    "graph = tf.Graph()\n",
    "with graph.as_default():\n",
    "    with tf.device(\"/cpu:0\"):\n",
    "        # Input data. For the training data, we use a placeholder that will be fed\n",
    "        # at run time with a training minibatch.\n",
    "        tf_train_dataset = tf.placeholder(tf.float32,\n",
    "                                        shape=(batch_size, image_size * image_size))\n",
    "        tf_train_labels = tf.placeholder(tf.float32, shape=(batch_size, num_labels))\n",
    "        tf_valid_dataset = tf.constant(valid_dataset)\n",
    "        tf_test_dataset = tf.constant(test_dataset)\n",
    "\n",
    "        # Variables.\n",
    "        weights = tf.Variable(\n",
    "        tf.truncated_normal([image_size * image_size, num_labels]))\n",
    "        biases = tf.Variable(tf.zeros([num_labels]))\n",
    "\n",
    "        # Training computation.\n",
    "        logits = tf.matmul(tf_train_dataset, weights) + biases\n",
    "        loss = tf.reduce_mean(\n",
    "        tf.nn.softmax_cross_entropy_with_logits(logits, tf_train_labels))\n",
    "        \n",
    "        regularizers = (tf.nn.l2_loss(weights) + tf.nn.l2_loss(biases))\n",
    "        loss += 5e-4 * regularizers\n",
    "\n",
    "        # Optimizer.\n",
    "        optimizer = tf.train.GradientDescentOptimizer(0.5).minimize(loss)\n",
    "\n",
    "        # Predictions for the training, validation, and test data.\n",
    "        train_prediction = tf.nn.softmax(logits)\n",
    "        valid_prediction = tf.nn.softmax(tf.matmul(tf_valid_dataset, weights) + biases)\n",
    "        test_prediction = tf.nn.softmax(tf.matmul(tf_test_dataset, weights) + biases)"
   ]
  },
  {
   "cell_type": "code",
   "execution_count": 19,
   "metadata": {
    "collapsed": false
   },
   "outputs": [
    {
     "name": "stdout",
     "output_type": "stream",
     "text": [
      "Initialized\n",
      "Minibatch loss at step 0: 18.884193\n",
      "Minibatch accuracy: 21.1%\n",
      "Validation accuracy: 15.5%\n",
      "Test accuracy: 16.1%\n",
      "Minibatch loss at step 500: 2.601035\n",
      "Minibatch accuracy: 70.3%\n",
      "Validation accuracy: 76.4%\n",
      "Test accuracy: 82.4%\n",
      "Minibatch loss at step 1000: 2.177069\n",
      "Minibatch accuracy: 70.3%\n",
      "Validation accuracy: 77.9%\n",
      "Test accuracy: 84.6%\n",
      "Minibatch loss at step 1500: 1.438796\n",
      "Minibatch accuracy: 79.7%\n",
      "Validation accuracy: 79.1%\n",
      "Test accuracy: 84.9%\n",
      "Minibatch loss at step 2000: 1.242004\n",
      "Minibatch accuracy: 76.6%\n",
      "Validation accuracy: 80.2%\n",
      "Test accuracy: 86.3%\n",
      "Minibatch loss at step 2500: 1.194675\n",
      "Minibatch accuracy: 75.8%\n",
      "Validation accuracy: 80.9%\n",
      "Test accuracy: 87.2%\n",
      "Minibatch loss at step 3000: 0.814204\n",
      "Minibatch accuracy: 84.4%\n",
      "Validation accuracy: 81.4%\n",
      "Test accuracy: 87.2%\n"
     ]
    }
   ],
   "source": [
    "num_steps = 3001\n",
    "\n",
    "with tf.Session(graph=graph) as session:\n",
    "  tf.initialize_all_variables().run()\n",
    "  print(\"Initialized\")\n",
    "  for step in range(num_steps):\n",
    "    # Pick an offset within the training data, which has been randomized.\n",
    "    # Note: we could use better randomization across epochs.\n",
    "    offset = (step * batch_size) % (train_labels.shape[0] - batch_size)\n",
    "    # Generate a minibatch.\n",
    "    batch_data = train_dataset[offset:(offset + batch_size), :]\n",
    "    batch_labels = train_labels[offset:(offset + batch_size), :]\n",
    "    # Prepare a dictionary telling the session where to feed the minibatch.\n",
    "    # The key of the dictionary is the placeholder node of the graph to be fed,\n",
    "    # and the value is the numpy array to feed to it.\n",
    "    feed_dict = {tf_train_dataset : batch_data, tf_train_labels : batch_labels}\n",
    "    _, l, predictions = session.run(\n",
    "      [optimizer, loss, train_prediction], feed_dict=feed_dict)\n",
    "    if (step % 500 == 0):\n",
    "      print(\"Minibatch loss at step %d: %f\" % (step, l))\n",
    "      print(\"Minibatch accuracy: %.1f%%\" % accuracy(predictions, batch_labels))\n",
    "      print(\"Validation accuracy: %.1f%%\" % accuracy(valid_prediction.eval(), valid_labels))\n",
    "      print(\"Test accuracy: %.1f%%\" % accuracy(test_prediction.eval(), test_labels))"
   ]
  },
  {
   "cell_type": "markdown",
   "metadata": {},
   "source": [
    "### Neural Network"
   ]
  },
  {
   "cell_type": "code",
   "execution_count": 40,
   "metadata": {
    "collapsed": false
   },
   "outputs": [],
   "source": [
    "batch_size = 128\n",
    "hidden1_units = 1024\n",
    "\n",
    "graph = tf.Graph()\n",
    "with graph.as_default():\n",
    "    with tf.device(\"/cpu:0\"):\n",
    "        # Input data. For the training data, we use a placeholder that will be fed\n",
    "        # at run time with a training minibatch.\n",
    "        images = tf.placeholder(tf.float32, shape=(None, image_size * image_size))\n",
    "        labels = tf.placeholder(tf.float32, shape=(None, num_labels))\n",
    "        tf_valid_dataset = tf.constant(valid_dataset)\n",
    "        tf_test_dataset = tf.constant(test_dataset)\n",
    "\n",
    "        with tf.name_scope('hidden1'):\n",
    "            weights = tf.Variable(tf.truncated_normal([image_size * image_size, hidden1_units], \n",
    "                                                      stddev=1.0 / math.sqrt(float(image_size * image_size)), \n",
    "                                                                             name='weights'))\n",
    "            biases = tf.Variable(tf.zeros([hidden1_units]), name='biases')\n",
    "            hidden1 = tf.nn.relu(tf.matmul(images, weights) + biases)\n",
    "            regularizers_hidden1 = (tf.nn.l2_loss(weights) + tf.nn.l2_loss(biases))\n",
    "\n",
    "        with tf.name_scope('logits'):\n",
    "            weights = tf.Variable(tf.truncated_normal([hidden1_units, num_labels], \n",
    "                                                      stddev=1.0 / math.sqrt(float(hidden1_units)), name='weights'))\n",
    "            biases = tf.Variable(tf.zeros([num_labels]), name='biases')\n",
    "            logits = tf.matmul(hidden1, weights) + biases\n",
    "            regularizers_logits = (tf.nn.l2_loss(weights) + tf.nn.l2_loss(biases))\n",
    "\n",
    "        # Training computation.\n",
    "        loss = tf.reduce_mean(tf.nn.softmax_cross_entropy_with_logits(logits, labels))\n",
    "        \n",
    "        regularizers = (regularizers_hidden1 + regularizers_logits)\n",
    "        loss += 5e-6 * regularizers\n",
    "\n",
    "        # Optimizer.\n",
    "        optimizer = tf.train.GradientDescentOptimizer(0.5).minimize(loss)\n",
    "\n",
    "        # Predictions for the training, validation, and test data.\n",
    "        prediction = tf.nn.softmax(logits)"
   ]
  },
  {
   "cell_type": "code",
   "execution_count": 31,
   "metadata": {
    "collapsed": false
   },
   "outputs": [
    {
     "name": "stdout",
     "output_type": "stream",
     "text": [
      "Initialized\n",
      "Minibatch loss at step 0: 2.379452\n",
      "Minibatch accuracy: 3.9%\n",
      "Validation accuracy: 29.9%\n",
      "Test accuracy: 32.6%\n",
      "Minibatch loss at step 500: 0.739410\n",
      "Minibatch accuracy: 77.3%\n",
      "Validation accuracy: 85.8%\n",
      "Test accuracy: 91.3%\n",
      "Minibatch loss at step 1000: 0.494735\n",
      "Minibatch accuracy: 85.2%\n",
      "Validation accuracy: 87.9%\n",
      "Test accuracy: 93.2%\n",
      "Minibatch loss at step 1500: 0.401314\n",
      "Minibatch accuracy: 88.3%\n",
      "Validation accuracy: 88.0%\n",
      "Test accuracy: 93.4%\n",
      "Minibatch loss at step 2000: 0.655914\n",
      "Minibatch accuracy: 84.4%\n",
      "Validation accuracy: 87.6%\n",
      "Test accuracy: 92.9%\n",
      "Minibatch loss at step 2500: 0.516454\n",
      "Minibatch accuracy: 84.4%\n",
      "Validation accuracy: 89.1%\n",
      "Test accuracy: 94.0%\n",
      "Minibatch loss at step 3000: 0.293022\n",
      "Minibatch accuracy: 91.4%\n",
      "Validation accuracy: 88.9%\n",
      "Test accuracy: 94.1%\n"
     ]
    }
   ],
   "source": [
    "num_steps = 3001\n",
    "\n",
    "with tf.Session(graph=graph) as session:\n",
    "  tf.initialize_all_variables().run()\n",
    "  print(\"Initialized\")\n",
    "  for step in range(num_steps):\n",
    "    # Pick an offset within the training data, which has been randomized.\n",
    "    # Note: we could use better randomization across epochs.\n",
    "    offset = (step * batch_size) % (train_labels.shape[0] - batch_size)\n",
    "    # Generate a minibatch.\n",
    "    batch_data = train_dataset[offset:(offset + batch_size), :]\n",
    "    batch_labels = train_labels[offset:(offset + batch_size), :]\n",
    "    \n",
    "    # Prepare a dictionary telling the session where to feed the minibatch.\n",
    "    # The key of the dictionary is the placeholder node of the graph to be fed,\n",
    "    # and the value is the numpy array to feed to it.\n",
    "    feed_dict = {images : batch_data, labels : batch_labels}\n",
    "    _, l, train_predictions = session.run(\n",
    "      [optimizer, loss, prediction], feed_dict=feed_dict)\n",
    "    if (step % 500 == 0):\n",
    "      print(\"Minibatch loss at step %d: %f\" % (step, l))\n",
    "      print(\"Minibatch accuracy: %.1f%%\" % accuracy(train_predictions, batch_labels))\n",
    "      print(\"Validation accuracy: %.1f%%\" % accuracy(prediction.eval(feed_dict={images: tf_valid_dataset.eval()}), valid_labels))\n",
    "      print(\"Test accuracy: %.1f%%\" % accuracy(prediction.eval(feed_dict={images: tf_test_dataset.eval()}), test_labels))"
   ]
  },
  {
   "cell_type": "markdown",
   "metadata": {
    "colab_type": "text",
    "id": "na8xX2yHZzNF"
   },
   "source": [
    "---\n",
    "Problem 2\n",
    "---------\n",
    "Let's demonstrate an extreme case of overfitting. Restrict your training data to just a few batches. What happens?\n",
    "\n",
    "---"
   ]
  },
  {
   "cell_type": "code",
   "execution_count": 42,
   "metadata": {
    "collapsed": false
   },
   "outputs": [
    {
     "name": "stdout",
     "output_type": "stream",
     "text": [
      "Initialized\n",
      "Minibatch loss at step 0: 2.298042\n",
      "Minibatch accuracy: 7.0%\n",
      "Validation accuracy: 30.2%\n",
      "Test accuracy: 32.8%\n",
      "Minibatch loss at step 500: 0.155368\n",
      "Minibatch accuracy: 95.3%\n",
      "Validation accuracy: 84.6%\n",
      "Test accuracy: 90.2%\n",
      "Minibatch loss at step 1000: 0.084285\n",
      "Minibatch accuracy: 98.4%\n",
      "Validation accuracy: 84.2%\n",
      "Test accuracy: 90.2%\n",
      "Minibatch loss at step 1500: 0.036447\n",
      "Minibatch accuracy: 98.4%\n",
      "Validation accuracy: 84.7%\n",
      "Test accuracy: 90.7%\n",
      "Minibatch loss at step 2000: 0.018414\n",
      "Minibatch accuracy: 100.0%\n",
      "Validation accuracy: 85.2%\n",
      "Test accuracy: 90.9%\n",
      "Minibatch loss at step 2500: 0.008097\n",
      "Minibatch accuracy: 100.0%\n",
      "Validation accuracy: 84.9%\n",
      "Test accuracy: 90.8%\n",
      "Minibatch loss at step 3000: 0.104875\n",
      "Minibatch accuracy: 98.4%\n",
      "Validation accuracy: 85.2%\n",
      "Test accuracy: 90.9%\n"
     ]
    }
   ],
   "source": [
    "num_steps = 3001\n",
    "\n",
    "train_dataset_small = train_dataset[:10000,:]\n",
    "train_labels_small = train_labels[:10000,:]\n",
    "\n",
    "with tf.Session(graph=graph) as session:\n",
    "  tf.initialize_all_variables().run()\n",
    "  print(\"Initialized\")\n",
    "  for step in range(num_steps):\n",
    "    # Pick an offset within the training data, which has been randomized.\n",
    "    # Note: we could use better randomization across epochs.\n",
    "    offset = (step * batch_size) % (train_labels_small.shape[0] - batch_size)\n",
    "    # Generate a minibatch.\n",
    "    batch_data = train_dataset_small[offset:(offset + batch_size), :]\n",
    "    batch_labels = train_labels_small[offset:(offset + batch_size), :]\n",
    "    \n",
    "    # Prepare a dictionary telling the session where to feed the minibatch.\n",
    "    # The key of the dictionary is the placeholder node of the graph to be fed,\n",
    "    # and the value is the numpy array to feed to it.\n",
    "    feed_dict = {images : batch_data, labels : batch_labels}\n",
    "    _, l, train_predictions = session.run(\n",
    "      [optimizer, loss, prediction], feed_dict=feed_dict)\n",
    "    if (step % 500 == 0):\n",
    "      print(\"Minibatch loss at step %d: %f\" % (step, l))\n",
    "      print(\"Minibatch accuracy: %.1f%%\" % accuracy(train_predictions, batch_labels))\n",
    "      print(\"Validation accuracy: %.1f%%\" % accuracy(prediction.eval(feed_dict={images: tf_valid_dataset.eval()}), valid_labels))\n",
    "      print(\"Test accuracy: %.1f%%\" % accuracy(prediction.eval(feed_dict={images: tf_test_dataset.eval()}), test_labels))"
   ]
  },
  {
   "cell_type": "markdown",
   "metadata": {},
   "source": [
    "The model overfits the training data (100% accuracy) and performs poorly on validation and test sets."
   ]
  },
  {
   "cell_type": "markdown",
   "metadata": {
    "colab_type": "text",
    "id": "ww3SCBUdlkRc"
   },
   "source": [
    "---\n",
    "Problem 3\n",
    "---------\n",
    "Introduce Dropout on the hidden layer of the neural network. Remember: Dropout should only be introduced during training, not evaluation, otherwise your evaluation results would be stochastic as well. TensorFlow provides `nn.dropout()` for that, but you have to make sure it's only inserted during training.\n",
    "\n",
    "What happens to our extreme overfitting case?\n",
    "\n",
    "---"
   ]
  },
  {
   "cell_type": "code",
   "execution_count": 43,
   "metadata": {
    "collapsed": true
   },
   "outputs": [],
   "source": [
    "batch_size = 128\n",
    "hidden1_units = 1024\n",
    "\n",
    "graph_dropout = tf.Graph()\n",
    "with graph_dropout.as_default():\n",
    "    with tf.device(\"/cpu:0\"):\n",
    "        # Input data. For the training data, we use a placeholder that will be fed\n",
    "        # at run time with a training minibatch.\n",
    "        images = tf.placeholder(tf.float32, shape=(None, image_size * image_size))\n",
    "        labels = tf.placeholder(tf.float32, shape=(None, num_labels))\n",
    "        tf_valid_dataset = tf.constant(valid_dataset)\n",
    "        tf_test_dataset = tf.constant(test_dataset)\n",
    "\n",
    "        with tf.name_scope('hidden1'):\n",
    "            weights = tf.Variable(tf.truncated_normal([image_size * image_size, hidden1_units], \n",
    "                                                      stddev=1.0 / math.sqrt(float(image_size * image_size)), \n",
    "                                                                             name='weights'))\n",
    "            biases = tf.Variable(tf.zeros([hidden1_units]), name='biases')\n",
    "            hidden1 = tf.nn.relu(tf.matmul(images, weights) + biases)\n",
    "            regularizers_hidden1 = (tf.nn.l2_loss(weights) + tf.nn.l2_loss(biases))\n",
    "            \n",
    "            # Add a 50% dropout during training only. Dropout also scales\n",
    "            # activations such that no rescaling is needed at evaluation time.\n",
    "            keep_prob = tf.placeholder(tf.float32)\n",
    "            hidden1 = tf.nn.dropout(hidden1, keep_prob, seed=17)\n",
    "\n",
    "        with tf.name_scope('logits'):\n",
    "            weights = tf.Variable(tf.truncated_normal([hidden1_units, num_labels], \n",
    "                                                      stddev=1.0 / math.sqrt(float(hidden1_units)), name='weights'))\n",
    "            biases = tf.Variable(tf.zeros([num_labels]), name='biases')\n",
    "            logits = tf.matmul(hidden1, weights) + biases\n",
    "            regularizers_logits = (tf.nn.l2_loss(weights) + tf.nn.l2_loss(biases))\n",
    "\n",
    "        # Training computation.\n",
    "        loss = tf.reduce_mean(tf.nn.softmax_cross_entropy_with_logits(logits, labels))\n",
    "        \n",
    "        regularizers = (regularizers_hidden1 + regularizers_logits)\n",
    "        loss += 5e-6 * regularizers\n",
    "\n",
    "        # Optimizer.\n",
    "        optimizer = tf.train.GradientDescentOptimizer(0.5).minimize(loss)\n",
    "\n",
    "        # Predictions for the training, validation, and test data.\n",
    "        prediction = tf.nn.softmax(logits)"
   ]
  },
  {
   "cell_type": "code",
   "execution_count": 47,
   "metadata": {
    "collapsed": false
   },
   "outputs": [
    {
     "name": "stdout",
     "output_type": "stream",
     "text": [
      "Initialized\n",
      "Minibatch loss at step 0: 2.428704\n",
      "Minibatch accuracy: 12.5%\n",
      "Validation accuracy: 25.7%\n",
      "Test accuracy: 27.7%\n",
      "Minibatch loss at step 500: 0.598036\n",
      "Minibatch accuracy: 82.8%\n",
      "Validation accuracy: 83.8%\n",
      "Test accuracy: 89.3%\n",
      "Minibatch loss at step 1000: 1.059563\n",
      "Minibatch accuracy: 73.4%\n",
      "Validation accuracy: 83.7%\n",
      "Test accuracy: 89.4%\n",
      "Minibatch loss at step 1500: 0.600776\n",
      "Minibatch accuracy: 87.5%\n",
      "Validation accuracy: 84.2%\n",
      "Test accuracy: 90.0%\n",
      "Minibatch loss at step 2000: 0.745777\n",
      "Minibatch accuracy: 85.9%\n",
      "Validation accuracy: 84.4%\n",
      "Test accuracy: 89.7%\n",
      "Minibatch loss at step 2500: 0.751767\n",
      "Minibatch accuracy: 82.0%\n",
      "Validation accuracy: 84.3%\n",
      "Test accuracy: 90.1%\n",
      "Minibatch loss at step 3000: 0.895883\n",
      "Minibatch accuracy: 84.4%\n",
      "Validation accuracy: 84.3%\n",
      "Test accuracy: 90.0%\n"
     ]
    }
   ],
   "source": [
    "num_steps = 3001\n",
    "\n",
    "train_dataset_small = train_dataset[:10000,:]\n",
    "train_labels_small = train_labels[:10000,:]\n",
    "\n",
    "with tf.Session(graph=graph_dropout) as session:\n",
    "  tf.initialize_all_variables().run()\n",
    "  print(\"Initialized\")\n",
    "  for step in range(num_steps):\n",
    "    # Pick an offset within the training data, which has been randomized.\n",
    "    # Note: we could use better randomization across epochs.\n",
    "    offset = (step * batch_size) % (train_labels_small.shape[0] - batch_size)\n",
    "    # Generate a minibatch.\n",
    "    batch_data = train_dataset_small[offset:(offset + batch_size), :]\n",
    "    batch_labels = train_labels_small[offset:(offset + batch_size), :]\n",
    "    \n",
    "    # Prepare a dictionary telling the session where to feed the minibatch.\n",
    "    # The key of the dictionary is the placeholder node of the graph to be fed,\n",
    "    # and the value is the numpy array to feed to it.\n",
    "    feed_dict = {images : batch_data, labels : batch_labels, keep_prob: 0.2}\n",
    "    _, l, train_predictions = session.run(\n",
    "      [optimizer, loss, prediction], feed_dict=feed_dict)\n",
    "    if (step % 500 == 0):\n",
    "      print(\"Minibatch loss at step %d: %f\" % (step, l))\n",
    "      print(\"Minibatch accuracy: %.1f%%\" % accuracy(train_predictions, batch_labels))\n",
    "      print(\"Validation accuracy: %.1f%%\" % accuracy(prediction.eval(feed_dict={images: tf_valid_dataset.eval(), \n",
    "                                                                                keep_prob: 1.0}), valid_labels))\n",
    "      print(\"Test accuracy: %.1f%%\" % accuracy(prediction.eval(feed_dict={images: tf_test_dataset.eval(), \n",
    "                                                                          keep_prob: 1.0}), test_labels))"
   ]
  },
  {
   "cell_type": "markdown",
   "metadata": {},
   "source": [
    "A dropout with keep_prob = 0.2 seems to avoid overfitting on training data. Training and validation scores are now similar."
   ]
  },
  {
   "cell_type": "markdown",
   "metadata": {
    "colab_type": "text",
    "id": "-b1hTz3VWZjw"
   },
   "source": [
    "---\n",
    "Problem 4\n",
    "---------\n",
    "\n",
    "Try to get the best performance you can using a multi-layer model! The best reported test accuracy using a deep network is [97.1%](http://yaroslavvb.blogspot.com/2011/09/notmnist-dataset.html?showComment=1391023266211#c8758720086795711595).\n",
    "\n",
    "One avenue you can explore is to add multiple layers.\n",
    "\n",
    "Another one is to use learning rate decay:\n",
    "\n",
    "    global_step = tf.Variable(0)  # count the number of steps taken.\n",
    "    learning_rate = tf.train.exponential_decay(0.5, global_step, ...)\n",
    "    optimizer = tf.train.GradientDescentOptimizer(learning_rate).minimize(loss, global_step=global_step)\n",
    " \n",
    " ---\n"
   ]
  },
  {
   "cell_type": "code",
   "execution_count": 93,
   "metadata": {
    "collapsed": false
   },
   "outputs": [],
   "source": [
    "batch_size = 128\n",
    "hidden1_units = 512\n",
    "hidden2_units = 512\n",
    "hidden3_units = 256\n",
    "\n",
    "graph_multi = tf.Graph()\n",
    "with graph_multi.as_default():\n",
    "    with tf.device(\"/cpu:0\"):\n",
    "        # Input data. For the training data, we use a placeholder that will be fed\n",
    "        # at run time with a training minibatch.\n",
    "        images = tf.placeholder(tf.float32, shape=(None, image_size * image_size))\n",
    "        labels = tf.placeholder(tf.float32, shape=(None, num_labels))\n",
    "        tf_valid_dataset = tf.constant(valid_dataset)\n",
    "        tf_test_dataset = tf.constant(test_dataset)\n",
    "\n",
    "        with tf.name_scope('hidden1'):\n",
    "            weights = tf.Variable(tf.truncated_normal([image_size * image_size, hidden1_units], \n",
    "                                                      stddev=1.0 / math.sqrt(float(image_size * image_size)), \n",
    "                                                                             name='weights'))\n",
    "            biases = tf.Variable(tf.zeros([hidden1_units]), name='biases')\n",
    "            hidden1 = tf.nn.relu(tf.matmul(images, weights) + biases)\n",
    "            regularizers_hidden1 = (tf.nn.l2_loss(weights) + tf.nn.l2_loss(biases))\n",
    "            \n",
    "            # Add a 50% dropout during training only. Dropout also scales\n",
    "            # activations such that no rescaling is needed at evaluation time.\n",
    "            keep_prob = tf.placeholder(tf.float32)\n",
    "            #hidden1 = tf.nn.dropout(hidden1, keep_prob, seed=17)\n",
    "            \n",
    "        with tf.name_scope('hidden2'):\n",
    "            weights = tf.Variable(tf.truncated_normal([hidden1_units, hidden2_units], \n",
    "                                                      stddev=1.0 / math.sqrt(float(hidden1_units)), \n",
    "                                                                             name='weights'))\n",
    "            biases = tf.Variable(tf.zeros([hidden2_units]), name='biases')\n",
    "            hidden2 = tf.nn.relu(tf.matmul(hidden1, weights) + biases)\n",
    "            regularizers_hidden2 = (tf.nn.l2_loss(weights) + tf.nn.l2_loss(biases))\n",
    "            \n",
    "            # Add a 50% dropout during training only. Dropout also scales\n",
    "            # activations such that no rescaling is needed at evaluation time.\n",
    "            hidden2 = tf.nn.dropout(hidden2, keep_prob, seed=17)\n",
    "            \n",
    "        '''with tf.name_scope('hidden3'):\n",
    "            weights = tf.Variable(tf.truncated_normal([hidden2_units, hidden3_units], \n",
    "                                                      stddev=1.0 / math.sqrt(float(hidden2_units)), \n",
    "                                                                             name='weights'))\n",
    "            biases = tf.Variable(tf.zeros([hidden3_units]), name='biases')\n",
    "            hidden3 = tf.nn.relu(tf.matmul(hidden2, weights) + biases)\n",
    "            regularizers_hidden3 = (tf.nn.l2_loss(weights) + tf.nn.l2_loss(biases))\n",
    "            \n",
    "            # Add a 50% dropout during training only. Dropout also scales\n",
    "            # activations such that no rescaling is needed at evaluation time.\n",
    "            #keep_prob = tf.placeholder(tf.float32)\n",
    "            hidden3 = tf.nn.dropout(hidden3, keep_prob, seed=17)\n",
    "'''\n",
    "        with tf.name_scope('logits'):\n",
    "            weights = tf.Variable(tf.truncated_normal([hidden2_units, num_labels], \n",
    "                                                      stddev=1.0 / math.sqrt(float(hidden2_units)), name='weights'))\n",
    "            biases = tf.Variable(tf.zeros([num_labels]), name='biases')\n",
    "            logits = tf.matmul(hidden2, weights) + biases\n",
    "            regularizers_logits = (tf.nn.l2_loss(weights) + tf.nn.l2_loss(biases))\n",
    "\n",
    "        # Training computation.\n",
    "        loss = tf.reduce_mean(tf.nn.softmax_cross_entropy_with_logits(logits, labels))\n",
    "        \n",
    "        regularizers = (regularizers_hidden1 + regularizers_hidden2 + \n",
    "                        regularizers_logits)\n",
    "        loss += 5e-5 * regularizers\n",
    "\n",
    "        # Optimizer.\n",
    "        optimizer = tf.train.GradientDescentOptimizer(0.1).minimize(loss)\n",
    "        \n",
    "        #optimizer = tf.train.AdamOptimizer(1e-2).minimize(loss)\n",
    "        \n",
    "        # Optimizer: set up a variable that's incremented once per batch and\n",
    "        # controls the learning rate decay.\n",
    "        '''batch = tf.Variable(0, dtype=tf.int32)\n",
    "        learning_rate = tf.train.exponential_decay(\n",
    "          0.01,                # Base learning rate.\n",
    "          batch * batch_size,  # Current index into the dataset.\n",
    "          train_labels.shape[0],          # Decay step.\n",
    "          0.95,                # Decay rate.\n",
    "          staircase=True)\n",
    "        \n",
    "        # Use simple momentum for the optimization.\n",
    "        optimizer = tf.train.MomentumOptimizer(learning_rate,\n",
    "                                             0.9).minimize(loss,\n",
    "                                                           global_step=batch)'''\n",
    "\n",
    "        # Predictions for the training, validation, and test data.\n",
    "        prediction = tf.nn.softmax(logits)"
   ]
  },
  {
   "cell_type": "code",
   "execution_count": 94,
   "metadata": {
    "collapsed": false
   },
   "outputs": [
    {
     "name": "stdout",
     "output_type": "stream",
     "text": [
      "Initialized\n",
      "Minibatch loss at step 0: 2.347546\n",
      "Minibatch accuracy: 7.0%\n",
      "Validation accuracy: 17.7%\n",
      "Test accuracy: 19.0%\n",
      "Minibatch loss at step 500: 0.729292\n",
      "Minibatch accuracy: 78.1%\n",
      "Validation accuracy: 84.6%\n",
      "Test accuracy: 90.1%\n",
      "Minibatch loss at step 1000: 0.706238\n",
      "Minibatch accuracy: 76.6%\n",
      "Validation accuracy: 85.7%\n",
      "Test accuracy: 91.3%\n",
      "Minibatch loss at step 1500: 0.512541\n",
      "Minibatch accuracy: 86.7%\n",
      "Validation accuracy: 86.8%\n",
      "Test accuracy: 92.1%\n",
      "Minibatch loss at step 2000: 0.594374\n",
      "Minibatch accuracy: 81.2%\n",
      "Validation accuracy: 87.2%\n",
      "Test accuracy: 92.4%\n",
      "Minibatch loss at step 2500: 0.579188\n",
      "Minibatch accuracy: 83.6%\n",
      "Validation accuracy: 87.7%\n",
      "Test accuracy: 93.1%\n",
      "Minibatch loss at step 3000: 0.352088\n",
      "Minibatch accuracy: 89.8%\n",
      "Validation accuracy: 88.2%\n",
      "Test accuracy: 93.4%\n",
      "Minibatch loss at step 3500: 0.423985\n",
      "Minibatch accuracy: 92.2%\n",
      "Validation accuracy: 88.6%\n",
      "Test accuracy: 93.6%\n",
      "Minibatch loss at step 4000: 0.460233\n",
      "Minibatch accuracy: 85.9%\n",
      "Validation accuracy: 88.9%\n",
      "Test accuracy: 94.0%\n",
      "Minibatch loss at step 4500: 0.524301\n",
      "Minibatch accuracy: 84.4%\n",
      "Validation accuracy: 89.1%\n",
      "Test accuracy: 94.2%\n",
      "Minibatch loss at step 5000: 0.354022\n",
      "Minibatch accuracy: 89.8%\n",
      "Validation accuracy: 89.2%\n",
      "Test accuracy: 94.0%\n",
      "Minibatch loss at step 5500: 0.385590\n",
      "Minibatch accuracy: 92.2%\n",
      "Validation accuracy: 89.7%\n",
      "Test accuracy: 94.4%\n",
      "Minibatch loss at step 6000: 0.327193\n",
      "Minibatch accuracy: 90.6%\n",
      "Validation accuracy: 89.8%\n",
      "Test accuracy: 94.6%\n",
      "Minibatch loss at step 6500: 0.361042\n",
      "Minibatch accuracy: 89.8%\n",
      "Validation accuracy: 89.9%\n",
      "Test accuracy: 94.7%\n",
      "Minibatch loss at step 7000: 0.326138\n",
      "Minibatch accuracy: 89.1%\n",
      "Validation accuracy: 90.0%\n",
      "Test accuracy: 94.6%\n",
      "Minibatch loss at step 7500: 0.310012\n",
      "Minibatch accuracy: 91.4%\n",
      "Validation accuracy: 90.1%\n",
      "Test accuracy: 94.9%\n",
      "Minibatch loss at step 8000: 0.369143\n",
      "Minibatch accuracy: 91.4%\n",
      "Validation accuracy: 90.3%\n",
      "Test accuracy: 94.8%\n",
      "Minibatch loss at step 8500: 0.377951\n",
      "Minibatch accuracy: 87.5%\n",
      "Validation accuracy: 89.9%\n",
      "Test accuracy: 94.8%\n",
      "Minibatch loss at step 9000: 0.329520\n",
      "Minibatch accuracy: 90.6%\n",
      "Validation accuracy: 90.2%\n",
      "Test accuracy: 94.9%\n",
      "Minibatch loss at step 9500: 0.310503\n",
      "Minibatch accuracy: 89.8%\n",
      "Validation accuracy: 90.2%\n",
      "Test accuracy: 94.7%\n",
      "Minibatch loss at step 10000: 0.381135\n",
      "Minibatch accuracy: 90.6%\n",
      "Validation accuracy: 90.7%\n",
      "Test accuracy: 95.1%\n"
     ]
    }
   ],
   "source": [
    "num_steps = 10001\n",
    "\n",
    "with tf.Session(graph=graph_multi) as session:\n",
    "  tf.initialize_all_variables().run()\n",
    "  print(\"Initialized\")\n",
    "  for step in range(num_steps):\n",
    "    # Pick an offset within the training data, which has been randomized.\n",
    "    # Note: we could use better randomization across epochs.\n",
    "    offset = (step * batch_size) % (train_labels.shape[0] - batch_size)\n",
    "    # Generate a minibatch.\n",
    "    batch_data = train_dataset[offset:(offset + batch_size), :]\n",
    "    batch_labels = train_labels[offset:(offset + batch_size), :]\n",
    "    \n",
    "    # Prepare a dictionary telling the session where to feed the minibatch.\n",
    "    # The key of the dictionary is the placeholder node of the graph to be fed,\n",
    "    # and the value is the numpy array to feed to it.\n",
    "    feed_dict = {images : batch_data, labels : batch_labels, keep_prob: 0.5}\n",
    "    _, l, train_predictions = session.run(\n",
    "      [optimizer, loss, prediction], feed_dict=feed_dict)\n",
    "    if (step % 500 == 0):\n",
    "      print(\"Minibatch loss at step %d: %f\" % (step, l))\n",
    "      print(\"Minibatch accuracy: %.1f%%\" % accuracy(train_predictions, batch_labels))\n",
    "      print(\"Validation accuracy: %.1f%%\" % accuracy(prediction.eval(feed_dict={images: tf_valid_dataset.eval(), \n",
    "                                                                                keep_prob: 1.0}), valid_labels))\n",
    "      print(\"Test accuracy: %.1f%%\" % accuracy(prediction.eval(feed_dict={images: tf_test_dataset.eval(), \n",
    "                                                                          keep_prob: 1.0}), test_labels))"
   ]
  },
  {
   "cell_type": "code",
   "execution_count": null,
   "metadata": {
    "collapsed": true
   },
   "outputs": [],
   "source": []
  }
 ],
 "metadata": {
  "colab": {
   "default_view": {},
   "name": "3_regularization.ipynb",
   "provenance": [],
   "version": "0.3.2",
   "views": {}
  },
  "kernelspec": {
   "display_name": "Python [default]",
   "language": "python",
   "name": "python3"
  },
  "language_info": {
   "codemirror_mode": {
    "name": "ipython",
    "version": 3
   },
   "file_extension": ".py",
   "mimetype": "text/x-python",
   "name": "python",
   "nbconvert_exporter": "python",
   "pygments_lexer": "ipython3",
   "version": "3.5.2"
  }
 },
 "nbformat": 4,
 "nbformat_minor": 0
}
